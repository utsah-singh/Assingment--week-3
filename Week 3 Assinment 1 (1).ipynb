{
 "cells": [
  {
   "cell_type": "markdown",
   "id": "c889825b-f3b0-439a-8627-68ba8f9bcf15",
   "metadata": {},
   "source": [
    "Answer = 1"
   ]
  },
  {
   "cell_type": "markdown",
   "id": "e4001678-24ee-466a-a725-7b93497fbf14",
   "metadata": {},
   "source": [
    " the keyword used to create a function is 'def'. Here's how you can create a function to return a list of odd numbers in the range of 1 to 25 using the 'def' keyword:"
   ]
  },
  {
   "cell_type": "code",
   "execution_count": 1,
   "id": "74f24b05-2d82-4370-b4aa-a772bebbdb5b",
   "metadata": {},
   "outputs": [
    {
     "name": "stdout",
     "output_type": "stream",
     "text": [
      "[1, 3, 5, 7, 9, 11, 13, 15, 17, 19, 21, 23, 25]\n"
     ]
    }
   ],
   "source": [
    "def get_odd_numbers():\n",
    "    odd_numbers = []\n",
    "    for number in range(1, 26):\n",
    "        if number % 2 != 0:\n",
    "            odd_numbers.append(number)\n",
    "    return odd_numbers\n",
    "\n",
    "# Call the function to obtain the list of odd numbers\n",
    "result = get_odd_numbers()\n",
    "print(result)"
   ]
  },
  {
   "cell_type": "markdown",
   "id": "ea96c832-04b0-4886-bee9-932d62e5a0cc",
   "metadata": {},
   "source": [
    "In this code:\n",
    "\n",
    ". 'def' is used to define a function named 'get_odd_numbers'.\n",
    ". The function calculates and collects 'odd numbers' from 1 to 25 in the 'odd_numbers list'.\n",
    ". The function returns the 'odd_numbers list'.\n",
    ". The function is then called using 'get_odd_numbers()', and the result (the list of odd numbers) is printed.\n",
    "When you run this code, it will print the list of 'odd numbers' from 1 to 25, which is '[1, 3, 5, 7, 9, 11, 13, 15, 17, 19, 21, 23, 25]'."
   ]
  },
  {
   "cell_type": "markdown",
   "id": "91686306-65cd-41b8-a2a2-d06e03df74e6",
   "metadata": {},
   "source": [
    "Answer = 2"
   ]
  },
  {
   "cell_type": "markdown",
   "id": "b2134bbf-43aa-4370-9c9e-2ac0d734e499",
   "metadata": {},
   "source": [
    "*'args' and **'kwargs' are special syntax in Python used to pass a variable number of positional arguments and keyword arguments, respectively, to a function. They are often used when you need flexibility in the number of arguments a function can accept. Here's how they work:\n",
    "\n",
    "*'args' allows you to pass a variable number of non-keyword (positional) arguments to a function. It collects these arguments as a tuple.\n",
    "**'kwargs' allows you to pass a variable number of keyword arguments (key-value pairs) to a function. It collects these arguments as a dictionary.\n",
    "Here's an example of how to create functions for *'args' and **'kwargs':  \n",
    "\n",
    "*Using args:\n",
    " \n"
   ]
  },
  {
   "cell_type": "code",
   "execution_count": 2,
   "id": "e0e5069e-34bb-495d-a07e-05466da0c504",
   "metadata": {},
   "outputs": [
    {
     "name": "stdout",
     "output_type": "stream",
     "text": [
      "Sum of numbers: 15\n"
     ]
    }
   ],
   "source": [
    "def add_numbers(*args):\n",
    "    result = 0\n",
    "    for num in args:\n",
    "        result += num\n",
    "    return result\n",
    "\n",
    "# Example usage\n",
    "total = add_numbers(1, 2, 3, 4, 5)\n",
    "print(\"Sum of numbers:\", total)"
   ]
  },
  {
   "cell_type": "markdown",
   "id": "3a52c2f3-06a0-4e18-aa30-76b347e936f1",
   "metadata": {},
   "source": [
    "In this 'add_numbers' function, '*args' collects a variable number of positional arguments and calculates their sum.\n",
    "\n",
    "**Using kwargs:\n",
    "\n"
   ]
  },
  {
   "cell_type": "code",
   "execution_count": 4,
   "id": "c4055788-05ad-461f-bc9a-2570ce365d28",
   "metadata": {},
   "outputs": [
    {
     "name": "stdout",
     "output_type": "stream",
     "text": [
      "name: John\n",
      "age: 30\n",
      "city: New York\n"
     ]
    }
   ],
   "source": [
    "def display_info(**kwargs):\n",
    "    for key, value in kwargs.items():\n",
    "        print(f\"{key}: {value}\")\n",
    "\n",
    "# Example usage\n",
    "display_info(name=\"John\", age=30, city=\"New York\")"
   ]
  },
  {
   "cell_type": "markdown",
   "id": "abde3953-a066-4377-9c28-38aa76236b38",
   "metadata": {},
   "source": [
    "In this display_info function, '**kwargs' collects a variable number of keyword arguments and displays their key-value pairs.\n",
    "\n",
    "When you run these functions with the provided examples, you can see how '*args' and '**kwargs' make it easy to work with a variable number of arguments in Python functions."
   ]
  },
  {
   "cell_type": "markdown",
   "id": "7cdba5d4-7da2-4b36-9e8c-8df16d4db6dc",
   "metadata": {},
   "source": [
    "Answer = 3"
   ]
  },
  {
   "cell_type": "markdown",
   "id": "8336a416-4751-4821-8ca6-e27a6f021502",
   "metadata": {},
   "source": [
    "In Python, an iterator is an object that allows you to iterate (loop) through a sequence of elements, like a list or a string, one at a time. To work with an iterator, you typically use two methods:\n",
    "\n",
    "1 . Initialization Method: The 'iter()' method is used to initialize an iterator object. This method is called on an iterable (e.g., a list) and returns an iterator.\n",
    "\n",
    "2 . Iteration Method: The 'next()' method is used to iterate through the elements of the iterator one by one. It returns the next element in the sequence, and when there are no more elements, it raises a StopIteration exception.\n",
    "\n",
    "Here's how you can use these methods to print the first five elements of the given list '[2, 4, 6, 8, 10, 12, 14, 16, 18, 20]':"
   ]
  },
  {
   "cell_type": "code",
   "execution_count": 5,
   "id": "c560f058-e3db-419b-a5d1-1482105b9b05",
   "metadata": {},
   "outputs": [
    {
     "name": "stdout",
     "output_type": "stream",
     "text": [
      "2\n",
      "4\n",
      "6\n",
      "8\n",
      "10\n"
     ]
    }
   ],
   "source": [
    "my_list = [2, 4, 6, 8, 10, 12, 14, 16, 18, 20]\n",
    "\n",
    "# Initialize an iterator object\n",
    "my_iterator = iter(my_list)\n",
    "\n",
    "# Print the first five elements\n",
    "for _ in range(5):  # Use a loop to print the first five elements\n",
    "    element = next(my_iterator)  # Get the next element from the iterator\n",
    "    print(element)"
   ]
  },
  {
   "cell_type": "markdown",
   "id": "31934512-198b-4e89-a057-605ca4939b8d",
   "metadata": {},
   "source": [
    "In this code:\n",
    "\n",
    "my_list is the list you want to iterate through.\n",
    "iter(my_list) initializes an iterator object from the list.\n",
    "The for loop is used to iterate and print the first five elements.\n",
    "next(my_iterator) is used to get the next element from the iterator, and it's printed inside the loop."
   ]
  },
  {
   "cell_type": "markdown",
   "id": "c8a98519-d288-4753-b39d-35326036dcd9",
   "metadata": {},
   "source": [
    "Answer = 4"
   ]
  },
  {
   "cell_type": "markdown",
   "id": "8cbb7887-9ce4-4fd6-b72d-6186c6aed4f5",
   "metadata": {},
   "source": [
    "In Python, a generator is a type of iterable, like a list or a tuple, that allows you to iterate over its elements one at a time. However, unlike lists or tuples, generators don't store all their elements in memory at once. Instead, they generate values on-the-fly as you iterate over them. This makes generators memory-efficient and suitable for large datasets or infinite sequences.\n",
    "\n",
    "A generator function is a Python function that contains one or more yield statements. The yield keyword is used in a generator function to yield a value back to the caller, while also preserving the function's state so that it can be resumed from where it left off the next time it's called. This allows you to create iterators without the need to store all the elements in memory.\n",
    "\n",
    "Here's a simple example of a generator function that generates a sequence of squares:"
   ]
  },
  {
   "cell_type": "code",
   "execution_count": 6,
   "id": "b84a97e1-6cf2-4cb1-821a-b45f29a95be9",
   "metadata": {},
   "outputs": [
    {
     "name": "stdout",
     "output_type": "stream",
     "text": [
      "0\n",
      "1\n",
      "4\n",
      "9\n",
      "16\n"
     ]
    }
   ],
   "source": [
    "def square_numbers(n):\n",
    "    for i in range(n):\n",
    "        yield i ** 2\n",
    "\n",
    "# Using the generator function\n",
    "gen = square_numbers(5)\n",
    "for square in gen:\n",
    "    print(square)"
   ]
  },
  {
   "cell_type": "markdown",
   "id": "9f0e81b0-553f-4e50-8737-88af85cbe9f3",
   "metadata": {},
   "source": [
    "In this example:\n",
    "\n",
    "'square_numbers' is a generator function that yields the squares of numbers from 0 to n-1.\n",
    "The yield statement is used to 'yield' each square value one at a time.\n",
    "When we call 'square_numbers(5)', it returns a generator object.\n",
    "We can use a for loop to iterate over the generator, and it generates and 'yields' squares one by one as the loop progresses.\n",
    "This allows you to work with large or potentially infinite sequences of data without having to store them all in memory, making generators a powerful tool for tasks like reading large files, generating random numbers, or working with streaming data.\n",
    "\n",
    "\n",
    "\n",
    "\n"
   ]
  },
  {
   "cell_type": "markdown",
   "id": "18372d10-cd16-429f-ab15-67aba3dfa35c",
   "metadata": {},
   "source": [
    "Answer = 5"
   ]
  },
  {
   "cell_type": "markdown",
   "id": "1ae6db82-5448-4093-a55c-d501e11c8f0e",
   "metadata": {},
   "source": [
    "You can create a generator function to generate prime numbers less than 1000 and use the next() method to print the first 20 prime numbers. Here's an example of how to do this:"
   ]
  },
  {
   "cell_type": "code",
   "execution_count": 8,
   "id": "e44738fb-3803-4800-a8eb-b50fededb5e9",
   "metadata": {},
   "outputs": [
    {
     "name": "stdout",
     "output_type": "stream",
     "text": [
      "2\n",
      "3\n",
      "5\n",
      "7\n",
      "11\n",
      "13\n",
      "17\n",
      "19\n",
      "23\n",
      "29\n",
      "31\n",
      "37\n",
      "41\n",
      "43\n",
      "47\n",
      "53\n",
      "59\n",
      "61\n",
      "67\n",
      "71\n"
     ]
    }
   ],
   "source": [
    "def is_prime(num):\n",
    "    if num <= 1:\n",
    "        return False\n",
    "    if num <= 3:\n",
    "        return True\n",
    "    if num % 2 == 0 or num % 3 == 0:\n",
    "        return False\n",
    "    i = 5\n",
    "    while i * i <= num:\n",
    "        if num % i == 0 or num % (i + 2) == 0:\n",
    "            return False\n",
    "        i += 6\n",
    "    return True\n",
    "\n",
    "def prime_generator(limit):\n",
    "    num = 2\n",
    "    count = 0\n",
    "    while num < limit:\n",
    "        if is_prime(num):\n",
    "            yield num\n",
    "            count += 1\n",
    "        num += 1\n",
    "\n",
    "# Using the generator to print the first 20 prime numbers\n",
    "prime_gen = prime_generator(1000)\n",
    "for _ in range(20):\n",
    "    prime = next(prime_gen)\n",
    "    print(prime)"
   ]
  },
  {
   "cell_type": "markdown",
   "id": "249d5bff-6812-4514-ba6c-2bf86663ecb3",
   "metadata": {},
   "source": [
    "In this code:\n",
    "\n",
    "is_prime is a helper function that checks whether a number is prime.\n",
    "prime_generator is a generator function that yields prime numbers up to a specified limit (in this case, 1000).\n",
    "The next() method is used to retrieve the next prime number from the generator, and it's repeated 20 times in the loop to print the first 20 prime numbers.\n",
    "When you run this code, it will print the first 20 prime numbers less than 1000."
   ]
  },
  {
   "cell_type": "markdown",
   "id": "81c146f8-f588-4fd2-a9a8-9cd493f78a10",
   "metadata": {},
   "source": [
    "Answer = 6"
   ]
  },
  {
   "cell_type": "markdown",
   "id": "d63925d7-ba72-46f2-af6d-b5807ce34b14",
   "metadata": {},
   "source": [
    "You can print the first 10 Fibonacci numbers using a while loop in Python. The Fibonacci sequence is a series of numbers where each number is the sum of the two preceding ones. Here's a Python program to do that:"
   ]
  },
  {
   "cell_type": "code",
   "execution_count": 9,
   "id": "535f114f-37ac-4d4b-823b-ed7c4892b4f8",
   "metadata": {},
   "outputs": [
    {
     "name": "stdout",
     "output_type": "stream",
     "text": [
      "0 1 1 2 3 5 8 13 21 34 \n"
     ]
    }
   ],
   "source": [
    "# Initialize the first two Fibonacci numbers\n",
    "a, b = 0, 1\n",
    "\n",
    "# Counter to keep track of how many numbers have been printed\n",
    "count = 0\n",
    "\n",
    "# Set the number of Fibonacci numbers to print\n",
    "n = 10\n",
    "\n",
    "# Use a while loop to generate and print the first 10 Fibonacci numbers\n",
    "while count < n:\n",
    "    print(a, end=\" \")  # Print the current Fibonacci number\n",
    "    a, b = b, a + b  # Update the Fibonacci numbers\n",
    "    count += 1  # Increment the count\n",
    "\n",
    "print()  # Print a newline to separate the output"
   ]
  },
  {
   "cell_type": "markdown",
   "id": "688a0c9e-56d7-4b2c-ba17-d1fcf097fd90",
   "metadata": {},
   "source": [
    "This program initializes the first two Fibonacci numbers as 0 and 1, uses a while loop to calculate and print the first 10 Fibonacci numbers, and updates the values of a and b accordingly. It prints the numbers on a single line separated by spaces. When you run the program, it will output the first 10 Fibonacci numbers.\n",
    "\n",
    "\n",
    "\n",
    "\n"
   ]
  },
  {
   "cell_type": "markdown",
   "id": "7febe130-574f-475f-a15b-aa77d4db81ff",
   "metadata": {},
   "source": [
    "Answer = 7"
   ]
  },
  {
   "cell_type": "markdown",
   "id": "ad6d91b5-f837-4303-9160-bed93e46bc59",
   "metadata": {},
   "source": [
    "List comprehensions are typically used to create new lists by iterating through an iterable (e.g., a string, list, or range) and applying an operation to each element. If you want to iterate through the string 'pwskills' and create a list of its characters, you can use a simple list comprehension like this:"
   ]
  },
  {
   "cell_type": "code",
   "execution_count": 10,
   "id": "5089b573-12bc-4758-b0a8-dded4487e3e9",
   "metadata": {},
   "outputs": [
    {
     "name": "stdout",
     "output_type": "stream",
     "text": [
      "['p', 'w', 's', 'k', 'i', 'l', 'l', 's']\n"
     ]
    }
   ],
   "source": [
    "string = 'pwskills'\n",
    "char_list = [char for char in string]\n",
    "print(char_list)"
   ]
  },
  {
   "cell_type": "markdown",
   "id": "1e7c0f0f-5b09-45a5-8785-dcbf6d129b1c",
   "metadata": {},
   "source": [
    "In this code, the list comprehension [char for char in string] iterates through the string 'pwskills' and creates a list of its individual characters. When you run this code, it will produce the following output:"
   ]
  },
  {
   "cell_type": "markdown",
   "id": "8df0f891-1fa5-446f-8c75-86a1ee25f28e",
   "metadata": {},
   "source": [
    "Answer = 8"
   ]
  },
  {
   "cell_type": "markdown",
   "id": "f2d2be94-a8b4-4f68-a404-e72f6a7627ee",
   "metadata": {},
   "source": [
    "You can check whether a given number is a palindrome or not using a while loop in Python. A palindrome number remains the same when its digits are reversed. Here's a Python program to do that:"
   ]
  },
  {
   "cell_type": "code",
   "execution_count": null,
   "id": "e2e7a61b-ae8d-45b2-8bea-8db4f4f819ec",
   "metadata": {},
   "outputs": [],
   "source": [
    "def is_palindrome(number):\n",
    "    original_number = number\n",
    "    reversed_number = 0\n",
    "\n",
    "    while number > 0:\n",
    "        digit = number % 10\n",
    "        reversed_number = reversed_number * 10 + digit\n",
    "        number = number // 10\n",
    "\n",
    "    return original_number == reversed_number\n",
    "\n",
    "# Input a number from the user\n",
    "num = int(input(\"Enter a number: \"))\n",
    "\n",
    "if is_palindrome(num):\n",
    "    print(f\"{num} is a palindrome number.\")\n",
    "else:\n",
    "    print(f\"{num} is not a palindrome number.\")"
   ]
  },
  {
   "cell_type": "code",
   "execution_count": null,
   "id": "8767d211-63f8-4ced-bfd5-850158ed9ac2",
   "metadata": {},
   "outputs": [],
   "source": [
    "In this program:\n",
    "\n",
    "is_palindrome is a function that takes a number as input and checks if it's a palindrome.\n",
    "Inside the while loop, we reverse the digits of the number.\n",
    "The original number is compared to the reversed number to determine if it's a palindrome.\n",
    "When you run this program, it will prompt you to enter a number, and then it will tell you whether the entered number is a palindrome or not."
   ]
  },
  {
   "cell_type": "markdown",
   "id": "1424390f-597f-4cc0-8225-9b507002d8e5",
   "metadata": {},
   "source": [
    "\n",
    "\n",
    "Answer = 9\n"
   ]
  },
  {
   "cell_type": "markdown",
   "id": "df965fe7-3923-43dc-b461-91102c094735",
   "metadata": {},
   "source": [
    "You can use a list comprehension to create a list of odd numbers from 1 to 100. Here's the code to do that:"
   ]
  },
  {
   "cell_type": "code",
   "execution_count": 1,
   "id": "21738de0-f094-4f2c-8e40-b8620c1bab7d",
   "metadata": {},
   "outputs": [
    {
     "name": "stdout",
     "output_type": "stream",
     "text": [
      "[1, 3, 5, 7, 9, 11, 13, 15, 17, 19, 21, 23, 25, 27, 29, 31, 33, 35, 37, 39, 41, 43, 45, 47, 49, 51, 53, 55, 57, 59, 61, 63, 65, 67, 69, 71, 73, 75, 77, 79, 81, 83, 85, 87, 89, 91, 93, 95, 97, 99]\n"
     ]
    }
   ],
   "source": [
    "odd_numbers = [x for x in range(1, 101) if x % 2 != 0]\n",
    "\n",
    "print(odd_numbers)"
   ]
  },
  {
   "cell_type": "markdown",
   "id": "7525c1f3-d01d-4fd1-8d4c-888d872c6f8c",
   "metadata": {},
   "source": [
    "In this code:\n",
    "\n",
    "range(1, 101) generates numbers from 1 to 100 (inclusive of 1 but exclusive of 101).\n",
    "The list comprehension [x for x in range(1, 101) if x % 2 != 0] filters the numbers in the range and only selects the ones that are odd (i.e., those where x % 2 is not equal to 0).\n",
    "The resulting list odd_numbers contains all the odd numbers from 1 to 100.\n",
    "Finally, the program prints the list of odd numbers."
   ]
  }
 ],
 "metadata": {
  "kernelspec": {
   "display_name": "Python 3 (ipykernel)",
   "language": "python",
   "name": "python3"
  },
  "language_info": {
   "codemirror_mode": {
    "name": "ipython",
    "version": 3
   },
   "file_extension": ".py",
   "mimetype": "text/x-python",
   "name": "python",
   "nbconvert_exporter": "python",
   "pygments_lexer": "ipython3",
   "version": "3.10.8"
  }
 },
 "nbformat": 4,
 "nbformat_minor": 5
}
